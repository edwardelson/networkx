{
 "cells": [
  {
   "cell_type": "code",
   "execution_count": 1,
   "metadata": {},
   "outputs": [],
   "source": [
    "import networkx as nx"
   ]
  },
  {
   "cell_type": "code",
   "execution_count": 2,
   "metadata": {},
   "outputs": [
    {
     "output_type": "execute_result",
     "data": {
      "text/plain": "<networkx.classes.graph.Graph at 0x7f4376eaad00>"
     },
     "metadata": {},
     "execution_count": 2
    }
   ],
   "source": [
    "G = nx.erdos_renyi_graph(10, 0.5)\n",
    "G"
   ]
  },
  {
   "cell_type": "code",
   "execution_count": 3,
   "metadata": {},
   "outputs": [
    {
     "output_type": "display_data",
     "data": {
      "text/plain": "<Figure size 432x288 with 1 Axes>",
      "image/svg+xml": "<?xml version=\"1.0\" encoding=\"utf-8\" standalone=\"no\"?>\n<!DOCTYPE svg PUBLIC \"-//W3C//DTD SVG 1.1//EN\"\n  \"http://www.w3.org/Graphics/SVG/1.1/DTD/svg11.dtd\">\n<!-- Created with matplotlib (https://matplotlib.org/) -->\n<svg height=\"302.4pt\" version=\"1.1\" viewBox=\"0 0 446.4 302.4\" width=\"446.4pt\" xmlns=\"http://www.w3.org/2000/svg\" xmlns:xlink=\"http://www.w3.org/1999/xlink\">\n <defs>\n  <style type=\"text/css\">\n*{stroke-linecap:butt;stroke-linejoin:round;}\n  </style>\n </defs>\n <g id=\"figure_1\">\n  <g id=\"patch_1\">\n   <path d=\"M 0 302.4 \nL 446.4 302.4 \nL 446.4 0 \nL 0 0 \nz\n\" style=\"fill:#ffffff;\"/>\n  </g>\n  <g id=\"axes_1\">\n   <g id=\"LineCollection_1\">\n    <path clip-path=\"url(#pc81e35954b)\" d=\"M 339.881782 20.290909 \nL 277.874448 117.228505 \n\" style=\"fill:none;stroke:#000000;\"/>\n    <path clip-path=\"url(#pc81e35954b)\" d=\"M 339.881782 20.290909 \nL 419.563636 80.401877 \n\" style=\"fill:none;stroke:#000000;\"/>\n    <path clip-path=\"url(#pc81e35954b)\" d=\"M 277.874448 117.228505 \nL 419.563636 80.401877 \n\" style=\"fill:none;stroke:#000000;\"/>\n    <path clip-path=\"url(#pc81e35954b)\" d=\"M 277.874448 117.228505 \nL 142.494886 206.140458 \n\" style=\"fill:none;stroke:#000000;\"/>\n    <path clip-path=\"url(#pc81e35954b)\" d=\"M 142.494886 206.140458 \nL 26.836364 282.109091 \n\" style=\"fill:none;stroke:#000000;\"/>\n   </g>\n   <g id=\"PathCollection_1\">\n    <defs>\n     <path d=\"M 0 8.660254 \nC 2.296726 8.660254 4.499694 7.747755 6.123724 6.123724 \nC 7.747755 4.499694 8.660254 2.296726 8.660254 0 \nC 8.660254 -2.296726 7.747755 -4.499694 6.123724 -6.123724 \nC 4.499694 -7.747755 2.296726 -8.660254 0 -8.660254 \nC -2.296726 -8.660254 -4.499694 -7.747755 -6.123724 -6.123724 \nC -7.747755 -4.499694 -8.660254 -2.296726 -8.660254 0 \nC -8.660254 2.296726 -7.747755 4.499694 -6.123724 6.123724 \nC -4.499694 7.747755 -2.296726 8.660254 0 8.660254 \nz\n\" id=\"m9dffc04759\" style=\"stroke:#1f78b4;\"/>\n    </defs>\n    <g clip-path=\"url(#pc81e35954b)\">\n     <use style=\"fill:#1f78b4;stroke:#1f78b4;\" x=\"339.881782\" xlink:href=\"#m9dffc04759\" y=\"20.290909\"/>\n     <use style=\"fill:#1f78b4;stroke:#1f78b4;\" x=\"277.874448\" xlink:href=\"#m9dffc04759\" y=\"117.228505\"/>\n     <use style=\"fill:#1f78b4;stroke:#1f78b4;\" x=\"419.563636\" xlink:href=\"#m9dffc04759\" y=\"80.401877\"/>\n     <use style=\"fill:#1f78b4;stroke:#1f78b4;\" x=\"142.494886\" xlink:href=\"#m9dffc04759\" y=\"206.140458\"/>\n     <use style=\"fill:#1f78b4;stroke:#1f78b4;\" x=\"26.836364\" xlink:href=\"#m9dffc04759\" y=\"282.109091\"/>\n    </g>\n   </g>\n  </g>\n </g>\n <defs>\n  <clipPath id=\"pc81e35954b\">\n   <rect height=\"288\" width=\"432\" x=\"7.2\" y=\"7.2\"/>\n  </clipPath>\n </defs>\n</svg>\n",
      "image/png": "[encoded data removed]"
     },
     "metadata": {}
    }
   ],
   "source": [
    "G = nx.Graph()\n",
    "G.add_edge(1, 2)\n",
    "G.add_edge(1, 3)\n",
    "G.add_edge(2, 3)\n",
    "G.add_edge(2, 4)\n",
    "G.add_edge(4, 5)\n",
    "\n",
    "nx.draw(G)"
   ]
  },
  {
   "cell_type": "code",
   "execution_count": 4,
   "metadata": {
    "tags": []
   },
   "outputs": [
    {
     "output_type": "execute_result",
     "data": {
      "text/plain": "-0.11111111111111355"
     },
     "metadata": {},
     "execution_count": 4
    }
   ],
   "source": [
    "\"\"\"\n",
    "For every edge, calculate pair of degree of adjacent nodes\n",
    "\"\"\"\n",
    "\n",
    "# node_degree_xy\n",
    "# basically return pairwise nodes' degree\n",
    "node_degree_xy = []\n",
    "\n",
    "nodes = set(G)\n",
    "xdeg = G.degree\n",
    "ydeg = G.degree\n",
    "\n",
    "# for (node, degree(node))\n",
    "for u, degu in xdeg(nodes):\n",
    "    # list of neighbors in set of nodes\n",
    "    neighbors = (nbr for _, nbr in G.edges(u) if nbr in nodes)\n",
    "    # print(u, degu, list(neighbors))\n",
    "    # print(ydeg(neighbors))\n",
    "\n",
    "    # for (neighbor(node), degree(neighbor(node)))\n",
    "    for v, degv in ydeg(neighbors):\n",
    "        node_degree_xy.append([degu, degv])\n",
    "        # print(u, degu, list(neighbors), v)\n",
    "\n",
    "node_degree_xy\n",
    "\n",
    "\n",
    "# mixing_dict. Create mixing matrix\n",
    "# dict map(deg_x: deg_y: count of pairs)\n",
    "d = {}\n",
    "psum = 0.0\n",
    "for x, y in node_degree_xy:\n",
    "    # if first time encounter\n",
    "    if x not in d:\n",
    "        d[x] = {}\n",
    "    if y not in d:\n",
    "        d[y] = {}\n",
    "\n",
    "    # get current count\n",
    "    v = d[x].get(y, 0)\n",
    "    d[x][y] = v + 1\n",
    "    \n",
    "    # count of pairs\n",
    "    psum += 1\n",
    "\n",
    "# normalised\n",
    "for k, jdict in d.items():\n",
    "    for j in jdict:\n",
    "        jdict[j] /= psum\n",
    "\n",
    "\"\"\"\n",
    "DEGREE MIXING MATRIX\n",
    "calculate how many pairs are found\n",
    "convert degree mixing dict to matrix\n",
    "\"\"\"\n",
    "from networkx.utils import dict_to_numpy_array\n",
    "s = set(d.keys())\n",
    "for k, v in d.items():\n",
    "    s.update(v.keys())\n",
    "m = max(s)\n",
    "mapping = {x: x for x in range(m+1)}\n",
    "M = dict_to_numpy_array(d, mapping=mapping)\n",
    "# M = M/ M.sum()\n",
    "M\n",
    "\n",
    "\"\"\"\n",
    "NUMERIC ASSORTATIVITY COEFFICIENT\n",
    "summarise the degree mixing matrix to numeric assortativity\n",
    "\"\"\"\n",
    "import numpy as np\n",
    "\n",
    "_nx, _ny = M.shape\n",
    "x = np.arange(_nx)\n",
    "y = np.arange(_ny)\n",
    "a = M.sum(axis=0)\n",
    "b = M.sum(axis=1)\n",
    "\n",
    "vara = (a * x ** 2).sum() - ((a * x).sum()) ** 2\n",
    "varb = (b * x ** 2).sum() - ((b * x).sum()) ** 2\n",
    "\n",
    "xy = np.outer(x, y)\n",
    "ab = np.outer(a, b)\n",
    "\n",
    "coeff = (xy * (M - ab)).sum() / np.sqrt(vara * varb)\n",
    "coeff"
   ]
  },
  {
   "cell_type": "code",
   "execution_count": 32,
   "metadata": {},
   "outputs": [
    {
     "output_type": "execute_result",
     "data": {
      "text/plain": "array([[0., 0., 0., 0.],\n       [0., 0., 1., 0.],\n       [0., 1., 2., 3.],\n       [0., 0., 3., 0.]])"
     },
     "metadata": {},
     "execution_count": 32
    }
   ],
   "source": [
    "M * psum"
   ]
  },
  {
   "cell_type": "code",
   "execution_count": 22,
   "metadata": {},
   "outputs": [
    {
     "output_type": "execute_result",
     "data": {
      "text/plain": "(array([0, 1, 2, 3]),\n array([0, 1, 2, 3]),\n array([[0, 0, 0, 0],\n        [0, 1, 2, 3],\n        [0, 2, 4, 6],\n        [0, 3, 6, 9]]))"
     },
     "metadata": {},
     "execution_count": 22
    }
   ],
   "source": [
    "x, y, xy"
   ]
  },
  {
   "cell_type": "code",
   "execution_count": 14,
   "metadata": {},
   "outputs": [
    {
     "output_type": "execute_result",
     "data": {
      "text/plain": "array([0. , 0.1, 0.6, 0.3])"
     },
     "metadata": {},
     "execution_count": 14
    }
   ],
   "source": [
    "a"
   ]
  },
  {
   "cell_type": "code",
   "execution_count": 5,
   "metadata": {},
   "outputs": [
    {
     "output_type": "execute_result",
     "data": {
      "text/plain": "array([[0. , 0. , 0. , 0. ],\n       [0. , 0. , 0.1, 0. ],\n       [0. , 0.1, 0.2, 0.3],\n       [0. , 0. , 0.3, 0. ]])"
     },
     "metadata": {},
     "execution_count": 5
    }
   ],
   "source": [
    "nx.algorithms.assortativity.degree_mixing_matrix(G)"
   ]
  },
  {
   "cell_type": "code",
   "execution_count": 6,
   "metadata": {},
   "outputs": [
    {
     "output_type": "execute_result",
     "data": {
      "text/plain": "-0.11111111111111355"
     },
     "metadata": {},
     "execution_count": 6
    }
   ],
   "source": [
    "nx.algorithms.assortativity.degree_assortativity_coefficient(G)"
   ]
  },
  {
   "cell_type": "code",
   "execution_count": null,
   "metadata": {},
   "outputs": [],
   "source": []
  },
  {
   "cell_type": "code",
   "execution_count": null,
   "metadata": {},
   "outputs": [],
   "source": []
  },
  {
   "cell_type": "code",
   "execution_count": null,
   "metadata": {},
   "outputs": [],
   "source": []
  },
  {
   "cell_type": "code",
   "execution_count": null,
   "metadata": {},
   "outputs": [],
   "source": []
  }
 ],
 "metadata": {
  "language_info": {
   "codemirror_mode": {
    "name": "ipython",
    "version": 3
   },
   "file_extension": ".py",
   "mimetype": "text/x-python",
   "name": "python",
   "nbconvert_exporter": "python",
   "pygments_lexer": "ipython3",
   "version": "3.8.3-final"
  },
  "orig_nbformat": 2,
  "kernelspec": {
   "name": "python3",
   "display_name": "Python 3"
  }
 },
 "nbformat": 4,
 "nbformat_minor": 2
}